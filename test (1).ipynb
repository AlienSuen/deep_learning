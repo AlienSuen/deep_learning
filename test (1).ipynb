{
 "cells": [
  {
   "cell_type": "markdown",
   "id": "0a11c1b4-f4e2-4898-be9a-05898aee6d9e",
   "metadata": {},
   "source": [
    "# My Jupyter Notebook on IBM Watson Studio"
   ]
  },
  {
   "cell_type": "markdown",
   "id": "8f1de6ff-3687-4fe2-89a8-0dca46e4e295",
   "metadata": {},
   "source": [
    "**Alan Suen**"
   ]
  },
  {
   "cell_type": "markdown",
   "id": "66e80e21-2b6a-49cc-873f-95f183fffcfc",
   "metadata": {},
   "source": [
    "Data Scientist"
   ]
  },
  {
   "cell_type": "markdown",
   "id": "ba47b174-87ff-4a3c-bcc1-ddccdbb0d944",
   "metadata": {},
   "source": [
    "*I am interested in data science because data really could hope people to change their life*"
   ]
  },
  {
   "cell_type": "markdown",
   "id": "ae7a971f-6f1e-4398-9393-9d71920b6086",
   "metadata": {},
   "source": [
    "Initialize for x and y"
   ]
  },
  {
   "cell_type": "code",
   "execution_count": 4,
   "id": "8cd88e06-7c9a-4ee1-a943-8cf072d3ca5c",
   "metadata": {},
   "outputs": [],
   "source": [
    "import numpy as np\n",
    "x = np.random.randn(10)\n",
    "y = 10*x + 10 + np.random.randn(len(x))"
   ]
  },
  {
   "cell_type": "markdown",
   "id": "fd2cfe6e-a367-4a1c-9207-2fc1333c7ab2",
   "metadata": {},
   "source": [
    "<img src=\"https://s2.loli.net/2022/08/19/IeO7ECJ8lY1at2P.png\" width=\"50%\">"
   ]
  },
  {
   "cell_type": "markdown",
   "id": "c2af5c57-13f0-4185-9c1b-9bba40ea7a85",
   "metadata": {},
   "source": [
    "| left | right | middle |\n",
    "| :-----| ----: | :----: |\n",
    "| cell | cell  | cell |\n",
    "| cell | cell  | cell |"
   ]
  },
  {
   "cell_type": "markdown",
   "id": "07c6d165-4a1d-4d25-a301-e466d68aaf67",
   "metadata": {},
   "source": [
    "this is a link [google](http://www.google.com/)"
   ]
  }
 ],
 "metadata": {
  "kernelspec": {
   "display_name": "Python",
   "language": "python",
   "name": "conda-env-python-py"
  },
  "language_info": {
   "codemirror_mode": {
    "name": "ipython",
    "version": 3
   },
   "file_extension": ".py",
   "mimetype": "text/x-python",
   "name": "python",
   "nbconvert_exporter": "python",
   "pygments_lexer": "ipython3",
   "version": "3.7.12"
  }
 },
 "nbformat": 4,
 "nbformat_minor": 5
}
